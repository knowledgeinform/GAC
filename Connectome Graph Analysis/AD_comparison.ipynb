{
 "cells": [
  {
   "cell_type": "code",
   "execution_count": 124,
   "metadata": {},
   "outputs": [],
   "source": [
    "import networkx as nx\n",
    "import numpy as np\n",
    "import pandas as pd\n",
    "import matplotlib.pyplot as plt\n",
    "plt.style.use('default')"
   ]
  },
  {
   "cell_type": "markdown",
   "metadata": {},
   "source": [
    "### Loading in the Data"
   ]
  },
  {
   "cell_type": "code",
   "execution_count": 125,
   "metadata": {},
   "outputs": [],
   "source": [
    "#load in node and edge list (from extract_full_nodes)\n",
    "nodes = pd.read_csv(\"final_connectome_node_table.csv\") \n",
    "edges = pd.read_csv(\"final_connectome_edge_table.csv\")"
   ]
  },
  {
   "cell_type": "code",
   "execution_count": 126,
   "metadata": {},
   "outputs": [],
   "source": [
    "DOMINANT_L1_AD = pd.read_csv(\"DOMINANT_L1_AD.csv\")\n",
    "DOMINANT_L23_AD = pd.read_csv(\"DOMINANT_L23_AD.csv\")\n",
    "DOMINANT_L4_AD = pd.read_csv(\"DOMINANT_L4_AD.csv\")\n",
    "DOMINANT_L5_AD = pd.read_csv(\"DOMINANT_L5_AD.csv\")\n",
    "DOMINANT_L6_AD = pd.read_csv(\"DOMINANT_L6_AD.csv\")\n",
    "DOMINANT_WM_AD = pd.read_csv(\"DOMINANT_WM_AD.csv\")"
   ]
  },
  {
   "cell_type": "code",
   "execution_count": 127,
   "metadata": {},
   "outputs": [
    {
     "name": "stdout",
     "output_type": "stream",
     "text": [
      "134\n",
      "1919\n",
      "3999\n",
      "1330\n",
      "1747\n",
      "13\n"
     ]
    }
   ],
   "source": [
    "print(len(DOMINANT_L1_AD))\n",
    "print(len(DOMINANT_L23_AD))\n",
    "print(len(DOMINANT_L4_AD))\n",
    "print(len(DOMINANT_L5_AD))\n",
    "print(len(DOMINANT_L6_AD))\n",
    "print(len(DOMINANT_WM_AD))"
   ]
  },
  {
   "cell_type": "code",
   "execution_count": 128,
   "metadata": {},
   "outputs": [],
   "source": [
    "DONE_L1_AD = pd.read_csv(\"DONE_L1_AD.csv\")\n",
    "DONE_L23_AD = pd.read_csv(\"DONE_L23_AD.csv\")\n",
    "DONE_L4_AD = pd.read_csv(\"DONE_L4_AD.csv\")\n",
    "DONE_L5_AD = pd.read_csv(\"DONE_L5_AD.csv\")\n",
    "DONE_L6_AD = pd.read_csv(\"DONE_L6_AD.csv\")\n",
    "DONE_WM_AD = pd.read_csv(\"DONE_WM_AD.csv\")"
   ]
  },
  {
   "cell_type": "code",
   "execution_count": 129,
   "metadata": {},
   "outputs": [
    {
     "name": "stdout",
     "output_type": "stream",
     "text": [
      "169\n",
      "1854\n",
      "2158\n",
      "1516\n",
      "2939\n",
      "25\n"
     ]
    }
   ],
   "source": [
    "print(len(DONE_L1_AD))\n",
    "print(len(DONE_L23_AD))\n",
    "print(len(DONE_L4_AD))\n",
    "print(len(DONE_L5_AD))\n",
    "print(len(DONE_L6_AD))\n",
    "print(len(DONE_WM_AD))"
   ]
  },
  {
   "cell_type": "code",
   "execution_count": 130,
   "metadata": {},
   "outputs": [],
   "source": [
    "node2vec_L1_AD = pd.read_csv(\"Node2Vec_L1_AD.csv\")\n",
    "node2vec_L23_AD = pd.read_csv(\"Node2Vec_L23_AD.csv\")\n",
    "node2vec_L4_AD = pd.read_csv(\"Node2Vec_L4_AD.csv\")\n",
    "node2vec_L5_AD = pd.read_csv(\"Node2Vec_L5_AD.csv\")\n",
    "node2vec_L6_AD = pd.read_csv(\"Node2Vec_L6_AD.csv\")\n",
    "node2vec_WM_AD = pd.read_csv(\"Node2Vec_WM_AD.csv\")"
   ]
  },
  {
   "cell_type": "code",
   "execution_count": 131,
   "metadata": {},
   "outputs": [
    {
     "name": "stdout",
     "output_type": "stream",
     "text": [
      "129\n",
      "1405\n",
      "1735\n",
      "1344\n",
      "1864\n",
      "18\n"
     ]
    }
   ],
   "source": [
    "print(len(node2vec_L1_AD))\n",
    "print(len(node2vec_L23_AD))\n",
    "print(len(node2vec_L4_AD))\n",
    "print(len(node2vec_L5_AD))\n",
    "print(len(node2vec_L6_AD))\n",
    "print(len(node2vec_WM_AD))"
   ]
  },
  {
   "cell_type": "code",
   "execution_count": 132,
   "metadata": {},
   "outputs": [],
   "source": [
    "MADAN_L1_AD = pd.read_csv(\"MADAN_L1_AD.csv\")\n",
    "MADAN_L23_AD = pd.read_csv(\"MADAN_L23_AD.csv\")\n",
    "MADAN_L4_AD = pd.read_csv(\"MADAN_L4_AD.csv\")\n",
    "MADAN_L5_AD = pd.read_csv(\"MADAN_L5_AD.csv\")\n",
    "MADAN_L6_AD = pd.read_csv(\"MADAN_L6_AD.csv\")\n",
    "MADAN_WM_AD = pd.read_csv(\"MADAN_WM_AD.csv\")"
   ]
  },
  {
   "cell_type": "code",
   "execution_count": 133,
   "metadata": {},
   "outputs": [
    {
     "name": "stdout",
     "output_type": "stream",
     "text": [
      "56\n",
      "451\n",
      "308\n",
      "295\n",
      "89\n",
      "0\n"
     ]
    }
   ],
   "source": [
    "print(len(MADAN_L1_AD))\n",
    "print(len(MADAN_L23_AD))\n",
    "print(len(MADAN_L4_AD))\n",
    "print(len(MADAN_L5_AD))\n",
    "print(len(MADAN_L6_AD))\n",
    "print(len(MADAN_WM_AD))"
   ]
  },
  {
   "cell_type": "markdown",
   "metadata": {},
   "source": [
    "### Compare DOMINANT and MADAN"
   ]
  },
  {
   "cell_type": "code",
   "execution_count": 134,
   "metadata": {},
   "outputs": [
    {
     "name": "stdout",
     "output_type": "stream",
     "text": [
      "0\n",
      "Overlap Percentage: 0.0\n"
     ]
    }
   ],
   "source": [
    "DOM_MAD_L1 = DOMINANT_L1_AD[DOMINANT_L1_AD[\"pt_root_id\"].isin(MADAN_L1_AD[\"pt_root_id\"].to_list())]\n",
    "print(len(DOM_MAD_L1))\n",
    "print(\"Overlap Percentage:\", len(DOM_MAD_L1) / len(MADAN_L1_AD[\"pt_root_id\"].to_list()) * 100)"
   ]
  },
  {
   "cell_type": "code",
   "execution_count": 135,
   "metadata": {},
   "outputs": [
    {
     "name": "stdout",
     "output_type": "stream",
     "text": [
      "6\n",
      "Overlap Percentage: 1.3303769401330376\n"
     ]
    }
   ],
   "source": [
    "DOM_MAD_L23 = DOMINANT_L23_AD[DOMINANT_L23_AD[\"pt_root_id\"].isin(MADAN_L23_AD[\"pt_root_id\"].to_list())]\n",
    "print(len(DOM_MAD_L23))\n",
    "print(\"Overlap Percentage:\", len(DOM_MAD_L23) / len(MADAN_L23_AD[\"pt_root_id\"].to_list()) * 100)"
   ]
  },
  {
   "cell_type": "code",
   "execution_count": 136,
   "metadata": {},
   "outputs": [
    {
     "name": "stdout",
     "output_type": "stream",
     "text": [
      "12\n",
      "Overlap Percentage: 3.896103896103896\n"
     ]
    }
   ],
   "source": [
    "DOM_MAD_L4 = DOMINANT_L4_AD[DOMINANT_L4_AD[\"pt_root_id\"].isin(MADAN_L4_AD[\"pt_root_id\"].to_list())]\n",
    "print(len(DOM_MAD_L4))\n",
    "print(\"Overlap Percentage:\", len(DOM_MAD_L4) / len(MADAN_L4_AD[\"pt_root_id\"].to_list()) * 100)"
   ]
  },
  {
   "cell_type": "code",
   "execution_count": 137,
   "metadata": {},
   "outputs": [
    {
     "name": "stdout",
     "output_type": "stream",
     "text": [
      "2\n",
      "Overlap Percentage: 0.6779661016949152\n"
     ]
    }
   ],
   "source": [
    "DOM_MAD_L5 = DOMINANT_L5_AD[DOMINANT_L5_AD[\"pt_root_id\"].isin(MADAN_L5_AD[\"pt_root_id\"].to_list())]\n",
    "print(len(DOM_MAD_L5))\n",
    "print(\"Overlap Percentage:\", len(DOM_MAD_L5) / len(MADAN_L5_AD[\"pt_root_id\"].to_list()) * 100)"
   ]
  },
  {
   "cell_type": "code",
   "execution_count": 138,
   "metadata": {},
   "outputs": [
    {
     "name": "stdout",
     "output_type": "stream",
     "text": [
      "0\n",
      "Overlap Percentage: 0.0\n"
     ]
    }
   ],
   "source": [
    "DOM_MAD_L6 = DOMINANT_L6_AD[DOMINANT_L6_AD[\"pt_root_id\"].isin(MADAN_L6_AD[\"pt_root_id\"].to_list())]\n",
    "print(len(DOM_MAD_L6))\n",
    "print(\"Overlap Percentage:\", len(DOM_MAD_L6) / len(MADAN_L6_AD[\"pt_root_id\"].to_list()) * 100)"
   ]
  },
  {
   "cell_type": "code",
   "execution_count": 139,
   "metadata": {},
   "outputs": [
    {
     "name": "stdout",
     "output_type": "stream",
     "text": [
      "0\n"
     ]
    }
   ],
   "source": [
    "DOM_MAD_WM = DOMINANT_WM_AD[DOMINANT_WM_AD[\"pt_root_id\"].isin(MADAN_WM_AD[\"pt_root_id\"].to_list())]\n",
    "print(len(DOM_MAD_WM))\n",
    "#print(\"Overlap Percentage:\" len(DOM_MAD_WM) / len(MADAN_WM_AD[\"pt_root_id\"].to_list()) * 100)"
   ]
  },
  {
   "cell_type": "markdown",
   "metadata": {},
   "source": [
    "### Compare DONE and MADAN"
   ]
  },
  {
   "cell_type": "code",
   "execution_count": 140,
   "metadata": {},
   "outputs": [
    {
     "name": "stdout",
     "output_type": "stream",
     "text": [
      "0\n",
      "Overlap Percentage: 0.0\n"
     ]
    }
   ],
   "source": [
    "DONE_MAD_L1 = DONE_L1_AD[DONE_L1_AD[\"pt_root_id\"].isin(MADAN_L1_AD[\"pt_root_id\"].to_list())]\n",
    "print(len(DONE_MAD_L1))\n",
    "print(\"Overlap Percentage:\", len(DONE_MAD_L1) / len(MADAN_L1_AD[\"pt_root_id\"].to_list()) * 100)"
   ]
  },
  {
   "cell_type": "code",
   "execution_count": 141,
   "metadata": {},
   "outputs": [
    {
     "name": "stdout",
     "output_type": "stream",
     "text": [
      "6\n",
      "Overlap Percentage: 1.3303769401330376\n"
     ]
    }
   ],
   "source": [
    "DONE_MAD_L23 = DONE_L23_AD[DONE_L23_AD[\"pt_root_id\"].isin(MADAN_L23_AD[\"pt_root_id\"].to_list())]\n",
    "print(len(DONE_MAD_L23))\n",
    "print(\"Overlap Percentage:\", len(DONE_MAD_L23) / len(MADAN_L23_AD[\"pt_root_id\"].to_list()) * 100)"
   ]
  },
  {
   "cell_type": "code",
   "execution_count": 142,
   "metadata": {},
   "outputs": [
    {
     "name": "stdout",
     "output_type": "stream",
     "text": [
      "3\n",
      "Overlap Percentage: 0.974025974025974\n"
     ]
    }
   ],
   "source": [
    "DONE_MAD_L4 = DONE_L4_AD[DONE_L4_AD[\"pt_root_id\"].isin(MADAN_L4_AD[\"pt_root_id\"].to_list())]\n",
    "print(len(DONE_MAD_L4))\n",
    "print(\"Overlap Percentage:\", len(DONE_MAD_L4) / len(MADAN_L4_AD[\"pt_root_id\"].to_list()) * 100)"
   ]
  },
  {
   "cell_type": "code",
   "execution_count": 143,
   "metadata": {},
   "outputs": [
    {
     "name": "stdout",
     "output_type": "stream",
     "text": [
      "1\n",
      "Overlap Percentage: 0.3389830508474576\n"
     ]
    }
   ],
   "source": [
    "DONE_MAD_L5 = DONE_L5_AD[DONE_L5_AD[\"pt_root_id\"].isin(MADAN_L5_AD[\"pt_root_id\"].to_list())]\n",
    "print(len(DONE_MAD_L5))\n",
    "print(\"Overlap Percentage:\", len(DONE_MAD_L5) / len(MADAN_L5_AD[\"pt_root_id\"].to_list()) * 100)"
   ]
  },
  {
   "cell_type": "code",
   "execution_count": 144,
   "metadata": {},
   "outputs": [
    {
     "name": "stdout",
     "output_type": "stream",
     "text": [
      "0\n",
      "Overlap Percentage: 0.0\n"
     ]
    }
   ],
   "source": [
    "DONE_MAD_L6 = DONE_L6_AD[DONE_L6_AD[\"pt_root_id\"].isin(MADAN_L6_AD[\"pt_root_id\"].to_list())]\n",
    "print(len(DONE_MAD_L6))\n",
    "print(\"Overlap Percentage:\", len(DONE_MAD_L6) / len(MADAN_L6_AD[\"pt_root_id\"].to_list()) * 100)"
   ]
  },
  {
   "cell_type": "code",
   "execution_count": 145,
   "metadata": {},
   "outputs": [
    {
     "name": "stdout",
     "output_type": "stream",
     "text": [
      "0\n"
     ]
    }
   ],
   "source": [
    "DONE_MAD_WM = DONE_WM_AD[DONE_WM_AD[\"pt_root_id\"].isin(MADAN_WM_AD[\"pt_root_id\"].to_list())]\n",
    "print(len(DONE_MAD_WM))\n",
    "#print(\"Overlap Percentage:\", len(DONE_MAD_WM) / len(MADAN_WM_AD[\"pt_root_id\"].to_list()) * 100)"
   ]
  },
  {
   "cell_type": "markdown",
   "metadata": {},
   "source": [
    "### Compare DOMINANT and DONE"
   ]
  },
  {
   "cell_type": "code",
   "execution_count": 146,
   "metadata": {},
   "outputs": [
    {
     "name": "stdout",
     "output_type": "stream",
     "text": [
      "35\n",
      "Overlap Percentage: 26.119402985074625\n"
     ]
    }
   ],
   "source": [
    "DONE_DOM_L1 = DONE_L1_AD[DONE_L1_AD[\"pt_root_id\"].isin(DOMINANT_L1_AD[\"pt_root_id\"].to_list())]\n",
    "print(len(DONE_DOM_L1))\n",
    "print(\"Overlap Percentage:\", len(DONE_DOM_L1) / len(DOMINANT_L1_AD[\"pt_root_id\"].to_list()) * 100)"
   ]
  },
  {
   "cell_type": "code",
   "execution_count": 147,
   "metadata": {},
   "outputs": [
    {
     "name": "stdout",
     "output_type": "stream",
     "text": [
      "747\n",
      "Overlap Percentage: 40.29126213592233\n"
     ]
    }
   ],
   "source": [
    "DONE_DOM_L23 = DOMINANT_L23_AD[DOMINANT_L23_AD[\"pt_root_id\"].isin(DONE_L23_AD[\"pt_root_id\"].to_list())]\n",
    "print(len(DONE_DOM_L23))\n",
    "print(\"Overlap Percentage:\", len(DONE_DOM_L23) / len(DONE_L23_AD[\"pt_root_id\"].to_list()) * 100)"
   ]
  },
  {
   "cell_type": "code",
   "execution_count": 148,
   "metadata": {},
   "outputs": [
    {
     "name": "stdout",
     "output_type": "stream",
     "text": [
      "1081\n",
      "Overlap Percentage: 50.09267840593142\n"
     ]
    }
   ],
   "source": [
    "DONE_DOM_L4 = DOMINANT_L4_AD[DOMINANT_L4_AD[\"pt_root_id\"].isin(DONE_L4_AD[\"pt_root_id\"].to_list())]\n",
    "print(len(DONE_DOM_L4))\n",
    "print(\"Overlap Percentage:\", len(DONE_DOM_L4) / len(DONE_L4_AD[\"pt_root_id\"].to_list()) * 100)"
   ]
  },
  {
   "cell_type": "code",
   "execution_count": 149,
   "metadata": {},
   "outputs": [
    {
     "name": "stdout",
     "output_type": "stream",
     "text": [
      "617\n",
      "Overlap Percentage: 46.390977443609025\n"
     ]
    }
   ],
   "source": [
    "DONE_DOM_L5 = DONE_L5_AD[DONE_L5_AD[\"pt_root_id\"].isin(DOMINANT_L5_AD[\"pt_root_id\"].to_list())]\n",
    "print(len(DONE_DOM_L5))\n",
    "print(\"Overlap Percentage:\", len(DONE_DOM_L5) / len(DOMINANT_L5_AD[\"pt_root_id\"].to_list()) * 100)"
   ]
  },
  {
   "cell_type": "code",
   "execution_count": 150,
   "metadata": {},
   "outputs": [
    {
     "name": "stdout",
     "output_type": "stream",
     "text": [
      "902\n",
      "Overlap Percentage: 51.63136805953062\n"
     ]
    }
   ],
   "source": [
    "DONE_DOM_L6 = DONE_L6_AD[DONE_L6_AD[\"pt_root_id\"].isin(DOMINANT_L6_AD[\"pt_root_id\"].to_list())]\n",
    "print(len(DONE_DOM_L6))\n",
    "print(\"Overlap Percentage:\", len(DONE_DOM_L6) / len(DOMINANT_L6_AD[\"pt_root_id\"].to_list()) * 100)"
   ]
  },
  {
   "cell_type": "code",
   "execution_count": 151,
   "metadata": {},
   "outputs": [
    {
     "name": "stdout",
     "output_type": "stream",
     "text": [
      "4\n",
      "Overlap Percentage: 30.76923076923077\n"
     ]
    }
   ],
   "source": [
    "DONE_DOM_WM = DONE_WM_AD[DONE_WM_AD[\"pt_root_id\"].isin(DOMINANT_WM_AD[\"pt_root_id\"].to_list())]\n",
    "print(len(DONE_DOM_WM))\n",
    "print(\"Overlap Percentage:\", len(DONE_DOM_WM) / len(DOMINANT_WM_AD[\"pt_root_id\"].to_list()) * 100)"
   ]
  },
  {
   "cell_type": "markdown",
   "metadata": {},
   "source": [
    "### Compare Node2Vec and MADAN"
   ]
  },
  {
   "cell_type": "code",
   "execution_count": 152,
   "metadata": {},
   "outputs": [
    {
     "name": "stdout",
     "output_type": "stream",
     "text": [
      "7\n",
      "Overlap Percentage: 12.5\n"
     ]
    }
   ],
   "source": [
    "N2V_MAD_L1 = node2vec_L1_AD[node2vec_L1_AD[\"pt_root_id\"].isin(MADAN_L1_AD[\"pt_root_id\"].to_list())]\n",
    "print(len(N2V_MAD_L1))\n",
    "print(\"Overlap Percentage:\", len(N2V_MAD_L1) / len(MADAN_L1_AD[\"pt_root_id\"].to_list()) * 100)"
   ]
  },
  {
   "cell_type": "code",
   "execution_count": 153,
   "metadata": {},
   "outputs": [
    {
     "name": "stdout",
     "output_type": "stream",
     "text": [
      "37\n",
      "Overlap Percentage: 8.2039911308204\n"
     ]
    }
   ],
   "source": [
    "N2V_MAD_L23 = node2vec_L23_AD[node2vec_L23_AD[\"pt_root_id\"].isin(MADAN_L23_AD[\"pt_root_id\"].to_list())]\n",
    "print(len(N2V_MAD_L23))\n",
    "print(\"Overlap Percentage:\", len(N2V_MAD_L23) / len(MADAN_L23_AD[\"pt_root_id\"].to_list()) * 100)"
   ]
  },
  {
   "cell_type": "code",
   "execution_count": 154,
   "metadata": {},
   "outputs": [
    {
     "name": "stdout",
     "output_type": "stream",
     "text": [
      "30\n",
      "Overlap Percentage: 9.740259740259742\n"
     ]
    }
   ],
   "source": [
    "N2V_MAD_L4 = node2vec_L4_AD[node2vec_L4_AD[\"pt_root_id\"].isin(MADAN_L4_AD[\"pt_root_id\"].to_list())]\n",
    "print(len(N2V_MAD_L4))\n",
    "print(\"Overlap Percentage:\", len(N2V_MAD_L4) / len(MADAN_L4_AD[\"pt_root_id\"].to_list()) * 100)"
   ]
  },
  {
   "cell_type": "code",
   "execution_count": 155,
   "metadata": {},
   "outputs": [
    {
     "name": "stdout",
     "output_type": "stream",
     "text": [
      "28\n",
      "Overlap Percentage: 9.491525423728813\n"
     ]
    }
   ],
   "source": [
    "N2V_MAD_L5 = node2vec_L5_AD[node2vec_L5_AD[\"pt_root_id\"].isin(MADAN_L5_AD[\"pt_root_id\"].to_list())]\n",
    "print(len(N2V_MAD_L5))\n",
    "print(\"Overlap Percentage:\", len(N2V_MAD_L5) / len(MADAN_L5_AD[\"pt_root_id\"].to_list()) * 100)"
   ]
  },
  {
   "cell_type": "code",
   "execution_count": 156,
   "metadata": {},
   "outputs": [
    {
     "name": "stdout",
     "output_type": "stream",
     "text": [
      "14\n",
      "Overlap Percentage: 15.730337078651685\n"
     ]
    }
   ],
   "source": [
    "N2V_MAD_L6 = node2vec_L6_AD[node2vec_L6_AD[\"pt_root_id\"].isin(MADAN_L6_AD[\"pt_root_id\"].to_list())]\n",
    "print(len(N2V_MAD_L6))\n",
    "print(\"Overlap Percentage:\", len(N2V_MAD_L6) / len(MADAN_L6_AD[\"pt_root_id\"].to_list()) * 100)"
   ]
  },
  {
   "cell_type": "code",
   "execution_count": 157,
   "metadata": {},
   "outputs": [
    {
     "name": "stdout",
     "output_type": "stream",
     "text": [
      "0\n"
     ]
    }
   ],
   "source": [
    "N2V_MAD_WM = node2vec_WM_AD[node2vec_WM_AD[\"pt_root_id\"].isin(MADAN_WM_AD[\"pt_root_id\"].to_list())]\n",
    "print(len(N2V_MAD_WM))\n",
    "#print(\"Overlap Percentage:\", len(N2V_MAD_WM) / len(MADAN_WM_AD[\"pt_root_id\"].to_list()) * 100)"
   ]
  },
  {
   "cell_type": "markdown",
   "metadata": {},
   "source": [
    "### Compare Node2Vec and DOMINANT"
   ]
  },
  {
   "cell_type": "code",
   "execution_count": 158,
   "metadata": {},
   "outputs": [
    {
     "name": "stdout",
     "output_type": "stream",
     "text": [
      "14\n",
      "Overlap Percentage: 10.852713178294573\n"
     ]
    }
   ],
   "source": [
    "N2V_DOM_L1 = DOMINANT_L1_AD[DOMINANT_L1_AD[\"pt_root_id\"].isin(node2vec_L1_AD[\"pt_root_id\"].to_list())]\n",
    "print(len(N2V_DOM_L1))\n",
    "print(\"Overlap Percentage:\", len(N2V_DOM_L1) / len(node2vec_L1_AD[\"pt_root_id\"].to_list()) * 100)"
   ]
  },
  {
   "cell_type": "code",
   "execution_count": 159,
   "metadata": {},
   "outputs": [
    {
     "name": "stdout",
     "output_type": "stream",
     "text": [
      "193\n",
      "Overlap Percentage: 13.736654804270461\n"
     ]
    }
   ],
   "source": [
    "N2V_DOM_L23 = DOMINANT_L23_AD[DOMINANT_L23_AD[\"pt_root_id\"].isin(node2vec_L23_AD[\"pt_root_id\"].to_list())]\n",
    "print(len(N2V_DOM_L23))\n",
    "print(\"Overlap Percentage:\", len(N2V_DOM_L23) / len(node2vec_L23_AD[\"pt_root_id\"].to_list()) * 100)"
   ]
  },
  {
   "cell_type": "code",
   "execution_count": 160,
   "metadata": {},
   "outputs": [
    {
     "name": "stdout",
     "output_type": "stream",
     "text": [
      "395\n",
      "Overlap Percentage: 22.76657060518732\n"
     ]
    }
   ],
   "source": [
    "N2V_DOM_L4 = DOMINANT_L4_AD[DOMINANT_L4_AD[\"pt_root_id\"].isin(node2vec_L4_AD[\"pt_root_id\"].to_list())]\n",
    "print(len(N2V_DOM_L4))\n",
    "print(\"Overlap Percentage:\", len(N2V_DOM_L4) / len(node2vec_L4_AD[\"pt_root_id\"].to_list()) * 100)"
   ]
  },
  {
   "cell_type": "code",
   "execution_count": 161,
   "metadata": {},
   "outputs": [
    {
     "name": "stdout",
     "output_type": "stream",
     "text": [
      "138\n",
      "Overlap Percentage: 10.37593984962406\n"
     ]
    }
   ],
   "source": [
    "N2V_DOM_L5 = node2vec_L5_AD[node2vec_L5_AD[\"pt_root_id\"].isin(DOMINANT_L5_AD[\"pt_root_id\"].to_list())]\n",
    "print(len(N2V_DOM_L5))\n",
    "print(\"Overlap Percentage:\", len(N2V_DOM_L5) / len(DOMINANT_L5_AD[\"pt_root_id\"].to_list()) * 100)"
   ]
  },
  {
   "cell_type": "code",
   "execution_count": 162,
   "metadata": {},
   "outputs": [
    {
     "name": "stdout",
     "output_type": "stream",
     "text": [
      "166\n",
      "Overlap Percentage: 8.905579399141631\n"
     ]
    }
   ],
   "source": [
    "N2V_DOM_L6 = node2vec_L6_AD[node2vec_L6_AD[\"pt_root_id\"].isin(DOMINANT_L6_AD[\"pt_root_id\"].to_list())]\n",
    "print(len(N2V_DOM_L6))\n",
    "print(\"Overlap Percentage:\", len(N2V_DOM_L6) / len(node2vec_L6_AD[\"pt_root_id\"].to_list()) * 100)"
   ]
  },
  {
   "cell_type": "code",
   "execution_count": 163,
   "metadata": {},
   "outputs": [
    {
     "name": "stdout",
     "output_type": "stream",
     "text": [
      "1\n",
      "Overlap Percentage: 7.6923076923076925\n"
     ]
    }
   ],
   "source": [
    "N2V_DOM_WM = node2vec_WM_AD[node2vec_WM_AD[\"pt_root_id\"].isin(DOMINANT_WM_AD[\"pt_root_id\"].to_list())]\n",
    "print(len(N2V_DOM_WM))\n",
    "print(\"Overlap Percentage:\", len(N2V_DOM_WM) / len(DOMINANT_WM_AD[\"pt_root_id\"].to_list()) * 100)"
   ]
  },
  {
   "cell_type": "markdown",
   "metadata": {},
   "source": [
    "### Compare Node2Vec and DONE"
   ]
  },
  {
   "cell_type": "code",
   "execution_count": 164,
   "metadata": {},
   "outputs": [
    {
     "name": "stdout",
     "output_type": "stream",
     "text": [
      "16\n",
      "Overlap Percentage: 12.4031007751938\n"
     ]
    }
   ],
   "source": [
    "N2V_DONE_L1 = DONE_L1_AD[DONE_L1_AD[\"pt_root_id\"].isin(node2vec_L1_AD[\"pt_root_id\"].to_list())]\n",
    "print(len(N2V_DONE_L1))\n",
    "print(\"Overlap Percentage:\", len(N2V_DONE_L1) / len(node2vec_L1_AD[\"pt_root_id\"].to_list()) * 100)"
   ]
  },
  {
   "cell_type": "code",
   "execution_count": 165,
   "metadata": {},
   "outputs": [
    {
     "name": "stdout",
     "output_type": "stream",
     "text": [
      "210\n",
      "Overlap Percentage: 14.94661921708185\n"
     ]
    }
   ],
   "source": [
    "N2V_DONE_L23 = DONE_L23_AD[DONE_L23_AD[\"pt_root_id\"].isin(node2vec_L23_AD[\"pt_root_id\"].to_list())]\n",
    "print(len(N2V_DONE_L23))\n",
    "print(\"Overlap Percentage:\", len(N2V_DONE_L23) / len(node2vec_L23_AD[\"pt_root_id\"].to_list()) * 100)"
   ]
  },
  {
   "cell_type": "code",
   "execution_count": 166,
   "metadata": {},
   "outputs": [
    {
     "name": "stdout",
     "output_type": "stream",
     "text": [
      "199\n",
      "Overlap Percentage: 11.469740634005763\n"
     ]
    }
   ],
   "source": [
    "N2V_DONE_L4 = DONE_L4_AD[DONE_L4_AD[\"pt_root_id\"].isin(node2vec_L4_AD[\"pt_root_id\"].to_list())]\n",
    "print(len(N2V_DONE_L4))\n",
    "print(\"Overlap Percentage:\", len(N2V_DONE_L4) / len(node2vec_L4_AD[\"pt_root_id\"].to_list()) * 100)"
   ]
  },
  {
   "cell_type": "code",
   "execution_count": 167,
   "metadata": {},
   "outputs": [
    {
     "name": "stdout",
     "output_type": "stream",
     "text": [
      "148\n",
      "Overlap Percentage: 11.011904761904761\n"
     ]
    }
   ],
   "source": [
    "N2V_DONE_L5 = DONE_L5_AD[DONE_L5_AD[\"pt_root_id\"].isin(node2vec_L5_AD[\"pt_root_id\"].to_list())]\n",
    "print(len(N2V_DONE_L5))\n",
    "print(\"Overlap Percentage:\", len(N2V_DONE_L5) / len(node2vec_L5_AD[\"pt_root_id\"].to_list()) * 100)"
   ]
  },
  {
   "cell_type": "code",
   "execution_count": 168,
   "metadata": {},
   "outputs": [
    {
     "name": "stdout",
     "output_type": "stream",
     "text": [
      "271\n",
      "Overlap Percentage: 14.53862660944206\n"
     ]
    }
   ],
   "source": [
    "N2V_DONE_L6 = DONE_L6_AD[DONE_L6_AD[\"pt_root_id\"].isin(node2vec_L6_AD[\"pt_root_id\"].to_list())]\n",
    "print(len(N2V_DONE_L6))\n",
    "print(\"Overlap Percentage:\", len(N2V_DONE_L6) / len(node2vec_L6_AD[\"pt_root_id\"].to_list()) * 100)"
   ]
  },
  {
   "cell_type": "code",
   "execution_count": 169,
   "metadata": {},
   "outputs": [
    {
     "name": "stdout",
     "output_type": "stream",
     "text": [
      "2\n",
      "Overlap Percentage: 11.11111111111111\n"
     ]
    }
   ],
   "source": [
    "N2V_DONE_WM = DONE_WM_AD[DONE_WM_AD[\"pt_root_id\"].isin(node2vec_WM_AD[\"pt_root_id\"].to_list())]\n",
    "print(len(N2V_DONE_WM))\n",
    "print(\"Overlap Percentage:\", len(N2V_DONE_WM) / len(node2vec_WM_AD[\"pt_root_id\"].to_list()) * 100)"
   ]
  },
  {
   "cell_type": "markdown",
   "metadata": {},
   "source": [
    "### Compare DOMINANT, DONE, and MADAN"
   ]
  },
  {
   "cell_type": "code",
   "execution_count": 170,
   "metadata": {},
   "outputs": [
    {
     "name": "stdout",
     "output_type": "stream",
     "text": [
      "1\n",
      "Total Overlap Percentage: 0.22172949002217296\n"
     ]
    }
   ],
   "source": [
    "DOM_MAD_DONE_L23 = DOM_MAD_L23[DOM_MAD_L23[\"pt_root_id\"].isin(DONE_MAD_L23[\"pt_root_id\"].to_list())]\n",
    "print(len(DOM_MAD_DONE_L23))\n",
    "print(\"Total Overlap Percentage:\", len(DOM_MAD_DONE_L23) / len(MADAN_L23_AD[\"pt_root_id\"].to_list()) * 100)"
   ]
  },
  {
   "cell_type": "code",
   "execution_count": 171,
   "metadata": {},
   "outputs": [
    {
     "name": "stdout",
     "output_type": "stream",
     "text": [
      "1\n",
      "Total Overlap Percentage: 0.3246753246753247\n"
     ]
    }
   ],
   "source": [
    "DOM_MAD_DONE_L4 = DOM_MAD_L4[DOM_MAD_L4[\"pt_root_id\"].isin(DONE_MAD_L4[\"pt_root_id\"].to_list())]\n",
    "print(len(DOM_MAD_DONE_L4))\n",
    "print(\"Total Overlap Percentage:\", len(DOM_MAD_DONE_L4) / len(MADAN_L4_AD[\"pt_root_id\"].to_list()) * 100)"
   ]
  },
  {
   "cell_type": "code",
   "execution_count": 172,
   "metadata": {},
   "outputs": [
    {
     "name": "stdout",
     "output_type": "stream",
     "text": [
      "0\n",
      "Total Overlap Percentage: 0.0\n"
     ]
    }
   ],
   "source": [
    "DOM_MAD_DONE_L5 = DOM_MAD_L5[DOM_MAD_L5[\"pt_root_id\"].isin(DONE_MAD_L5[\"pt_root_id\"].to_list())]\n",
    "print(len(DOM_MAD_DONE_L5))\n",
    "print(\"Total Overlap Percentage:\", len(DOM_MAD_DONE_L5) / len(MADAN_L5_AD[\"pt_root_id\"].to_list()) * 100)"
   ]
  },
  {
   "cell_type": "markdown",
   "metadata": {},
   "source": [
    "### Compare DOMINANT, MADAN, and Node2Vec"
   ]
  },
  {
   "cell_type": "code",
   "execution_count": 173,
   "metadata": {},
   "outputs": [
    {
     "name": "stdout",
     "output_type": "stream",
     "text": [
      "0\n",
      "Total Overlap Percentage: 0.0\n"
     ]
    }
   ],
   "source": [
    "DOM_MAD_N2V_L23 = N2V_MAD_L23[N2V_MAD_L23[\"pt_root_id\"].isin(DOM_MAD_L23[\"pt_root_id\"].to_list())]\n",
    "print(len(DOM_MAD_N2V_L23))\n",
    "print(\"Total Overlap Percentage:\", len(DOM_MAD_N2V_L23) / len(MADAN_L23_AD[\"pt_root_id\"].to_list()) * 100)"
   ]
  },
  {
   "cell_type": "code",
   "execution_count": 174,
   "metadata": {},
   "outputs": [
    {
     "name": "stdout",
     "output_type": "stream",
     "text": [
      "0\n",
      "Total Overlap Percentage: 0.0\n"
     ]
    }
   ],
   "source": [
    "DOM_MAD_N2V_L4 = N2V_MAD_L4[N2V_MAD_L4[\"pt_root_id\"].isin(DOM_MAD_L4[\"pt_root_id\"].to_list())]\n",
    "print(len(DOM_MAD_N2V_L4))\n",
    "print(\"Total Overlap Percentage:\", len(DOM_MAD_N2V_L4) / len(MADAN_L4_AD[\"pt_root_id\"].to_list()) * 100)"
   ]
  },
  {
   "cell_type": "code",
   "execution_count": 175,
   "metadata": {},
   "outputs": [
    {
     "name": "stdout",
     "output_type": "stream",
     "text": [
      "0\n",
      "Total Overlap Percentage: 0.0\n"
     ]
    }
   ],
   "source": [
    "DOM_MAD_N2V_L5 = N2V_MAD_L5[N2V_MAD_L5[\"pt_root_id\"].isin(DOM_MAD_L5[\"pt_root_id\"].to_list())]\n",
    "print(len(DOM_MAD_N2V_L5))\n",
    "print(\"Total Overlap Percentage:\", len(DOM_MAD_N2V_L5) / len(MADAN_L5_AD[\"pt_root_id\"].to_list()) * 100)"
   ]
  },
  {
   "cell_type": "markdown",
   "metadata": {},
   "source": [
    "### Compare DONE, MADAN, and Node2Vec"
   ]
  },
  {
   "cell_type": "code",
   "execution_count": 176,
   "metadata": {},
   "outputs": [
    {
     "name": "stdout",
     "output_type": "stream",
     "text": [
      "0\n",
      "Total Overlap Percentage: 0.0\n"
     ]
    }
   ],
   "source": [
    "DONE_MAD_N2V_L23 = N2V_MAD_L23[N2V_MAD_L23[\"pt_root_id\"].isin(DONE_MAD_L23[\"pt_root_id\"].to_list())]\n",
    "print(len(DONE_MAD_N2V_L23))\n",
    "print(\"Total Overlap Percentage:\", len(DONE_MAD_N2V_L23) / len(MADAN_L23_AD[\"pt_root_id\"].to_list()) * 100)"
   ]
  },
  {
   "cell_type": "code",
   "execution_count": 177,
   "metadata": {},
   "outputs": [
    {
     "name": "stdout",
     "output_type": "stream",
     "text": [
      "0\n",
      "Total Overlap Percentage: 0.0\n"
     ]
    }
   ],
   "source": [
    "DONE_MAD_N2V_L4 = N2V_MAD_L4[N2V_MAD_L4[\"pt_root_id\"].isin(DONE_MAD_L4[\"pt_root_id\"].to_list())]\n",
    "print(len(DONE_MAD_N2V_L4))\n",
    "print(\"Total Overlap Percentage:\", len(DONE_MAD_N2V_L4) / len(MADAN_L4_AD[\"pt_root_id\"].to_list()) * 100)"
   ]
  },
  {
   "cell_type": "code",
   "execution_count": 178,
   "metadata": {},
   "outputs": [
    {
     "name": "stdout",
     "output_type": "stream",
     "text": [
      "0\n",
      "Total Overlap Percentage: 0.0\n"
     ]
    }
   ],
   "source": [
    "DONE_MAD_N2V_L5 = N2V_MAD_L5[N2V_MAD_L5[\"pt_root_id\"].isin(DONE_MAD_L5[\"pt_root_id\"].to_list())]\n",
    "print(len(DONE_MAD_N2V_L5))\n",
    "print(\"Total Overlap Percentage:\", len(DONE_MAD_N2V_L5) / len(MADAN_L5_AD[\"pt_root_id\"].to_list()) * 100)"
   ]
  },
  {
   "cell_type": "markdown",
   "metadata": {},
   "source": [
    "### Compare DOMINANT, DONE, and Node2Vec"
   ]
  },
  {
   "cell_type": "code",
   "execution_count": 179,
   "metadata": {},
   "outputs": [
    {
     "name": "stdout",
     "output_type": "stream",
     "text": [
      "3\n",
      "Total Overlap Percentage: 2.3255813953488373\n"
     ]
    }
   ],
   "source": [
    "DOM_DONE_N2V_L1 = N2V_DONE_L1[N2V_DONE_L1[\"pt_root_id\"].isin(N2V_DOM_L1[\"pt_root_id\"].to_list())]\n",
    "print(len(DOM_DONE_N2V_L1))\n",
    "print(\"Total Overlap Percentage:\", len(DOM_DONE_N2V_L1) / len(node2vec_L1_AD[\"pt_root_id\"].to_list()) * 100)"
   ]
  },
  {
   "cell_type": "code",
   "execution_count": 180,
   "metadata": {},
   "outputs": [
    {
     "name": "stdout",
     "output_type": "stream",
     "text": [
      "81\n",
      "Total Overlap Percentage: 5.765124555160142\n"
     ]
    }
   ],
   "source": [
    "DOM_DONE_N2V_L23 = N2V_DONE_L23[N2V_DONE_L23[\"pt_root_id\"].isin(N2V_DOM_L23[\"pt_root_id\"].to_list())]\n",
    "print(len(DOM_DONE_N2V_L23))\n",
    "print(\"Total Overlap Percentage:\", len(DOM_DONE_N2V_L23) / len(node2vec_L23_AD[\"pt_root_id\"].to_list()) * 100)"
   ]
  },
  {
   "cell_type": "code",
   "execution_count": 181,
   "metadata": {},
   "outputs": [
    {
     "name": "stdout",
     "output_type": "stream",
     "text": [
      "100\n",
      "Total Overlap Percentage: 5.763688760806916\n"
     ]
    }
   ],
   "source": [
    "DOM_DONE_N2V_L4 = N2V_DOM_L4[N2V_DOM_L4[\"pt_root_id\"].isin(N2V_DONE_L4[\"pt_root_id\"].to_list())]\n",
    "print(len(DOM_DONE_N2V_L4))\n",
    "print(\"Total Overlap Percentage:\", len(DOM_DONE_N2V_L4) / len(node2vec_L4_AD[\"pt_root_id\"].to_list()) * 100)"
   ]
  },
  {
   "cell_type": "code",
   "execution_count": 182,
   "metadata": {},
   "outputs": [
    {
     "name": "stdout",
     "output_type": "stream",
     "text": [
      "62\n",
      "Total Overlap Percentage: 4.613095238095238\n"
     ]
    }
   ],
   "source": [
    "DOM_DONE_N2V_L5 = N2V_DONE_L5[N2V_DONE_L5[\"pt_root_id\"].isin(N2V_DOM_L5[\"pt_root_id\"].to_list())]\n",
    "print(len(DOM_DONE_N2V_L5))\n",
    "print(\"Total Overlap Percentage:\", len(DOM_DONE_N2V_L5) / len(node2vec_L5_AD[\"pt_root_id\"].to_list()) * 100)"
   ]
  },
  {
   "cell_type": "code",
   "execution_count": 228,
   "metadata": {},
   "outputs": [
    {
     "name": "stdout",
     "output_type": "stream",
     "text": [
      "69\n",
      "Total Overlap Percentage: 3.7017167381974247\n"
     ]
    }
   ],
   "source": [
    "DOM_DONE_N2V_L6 = N2V_DONE_L6[N2V_DONE_L6[\"pt_root_id\"].isin(N2V_DOM_L6[\"pt_root_id\"].to_list())]\n",
    "print(len(DOM_DONE_N2V_L6))\n",
    "print(\"Total Overlap Percentage:\", len(DOM_DONE_N2V_L6) / len(node2vec_L6_AD[\"pt_root_id\"].to_list()) * 100)"
   ]
  },
  {
   "cell_type": "code",
   "execution_count": 184,
   "metadata": {},
   "outputs": [
    {
     "name": "stdout",
     "output_type": "stream",
     "text": [
      "1\n",
      "Total Overlap Percentage: 5.555555555555555\n"
     ]
    }
   ],
   "source": [
    "DOM_DONE_N2V_WM = N2V_DONE_WM[N2V_DONE_WM[\"pt_root_id\"].isin(N2V_DOM_WM[\"pt_root_id\"].to_list())]\n",
    "print(len(DOM_DONE_N2V_WM))\n",
    "print(\"Total Overlap Percentage:\", len(DOM_DONE_N2V_WM) / len(node2vec_WM_AD[\"pt_root_id\"].to_list()) * 100)"
   ]
  },
  {
   "cell_type": "code",
   "execution_count": 232,
   "metadata": {},
   "outputs": [
    {
     "name": "stdout",
     "output_type": "stream",
     "text": [
      "[2.3255814  5.76512456 5.76368876 4.61309524 3.70171674 5.55555556]\n",
      "4.620793707194019\n",
      "1.2650588394842948\n"
     ]
    }
   ],
   "source": [
    "average_overlap_array = np.array([(len(DOM_DONE_N2V_L1) / len(node2vec_L1_AD[\"pt_root_id\"].to_list()) * 100),\n",
    "    (len(DOM_DONE_N2V_L23) / len(node2vec_L23_AD[\"pt_root_id\"].to_list()) * 100),\n",
    "    (len(DOM_DONE_N2V_L4) / len(node2vec_L4_AD[\"pt_root_id\"].to_list()) * 100),\n",
    "    (len(DOM_DONE_N2V_L5) / len(node2vec_L5_AD[\"pt_root_id\"].to_list()) * 100),\n",
    "    (len(DOM_DONE_N2V_L6) / len(node2vec_L6_AD[\"pt_root_id\"].to_list()) * 100),\n",
    "    (len(DOM_DONE_N2V_WM) / len(node2vec_WM_AD[\"pt_root_id\"].to_list()) * 100)])\n",
    "print(average_overlap_array)\n",
    "print(average_overlap_array.mean())\n",
    "print(average_overlap_array.std())"
   ]
  },
  {
   "cell_type": "markdown",
   "metadata": {},
   "source": [
    "### Overlap Triples"
   ]
  },
  {
   "cell_type": "code",
   "execution_count": 185,
   "metadata": {},
   "outputs": [],
   "source": [
    "overlaps_L1 = DOM_DONE_N2V_L1\n",
    "overlaps_L23 = pd.concat([DOM_DONE_N2V_L23, DOM_MAD_DONE_L23])\n",
    "overlaps_L4 = pd.concat([DOM_DONE_N2V_L4, DOM_MAD_DONE_L4])\n",
    "overlaps_L5 = DOM_DONE_N2V_L5\n",
    "overlaps_L6 = DOM_DONE_N2V_L6\n",
    "overlaps_WM = DOM_DONE_N2V_WM"
   ]
  },
  {
   "cell_type": "code",
   "execution_count": 209,
   "metadata": {},
   "outputs": [
    {
     "data": {
      "image/png": "[encoded data removed]",
      "text/plain": [
       "<Figure size 640x480 with 6 Axes>"
      ]
     },
     "metadata": {},
     "output_type": "display_data"
    }
   ],
   "source": [
    "fig, axs = plt.subplots(2,3)\n",
    "fig.suptitle(\"Anomalous Out Degree\")\n",
    "axs[0,0].hist(overlaps_L1[\"pre_syn_count\"])\n",
    "axs[0, 0].set_title(\"Layer 1\")\n",
    "axs[0,1].hist(overlaps_L23[\"pre_syn_count\"])\n",
    "axs[0,1].set_title(\"Layer 23\")\n",
    "axs[0,2].hist(overlaps_L4[\"pre_syn_count\"])\n",
    "axs[0,2].set_title(\"Layer 4\")\n",
    "axs[1,0].hist(overlaps_L5[\"pre_syn_count\"])\n",
    "axs[1,0].set_title(\"Layer 5\")\n",
    "axs[1,1].hist(overlaps_L6[\"pre_syn_count\"])\n",
    "axs[1,1].set_title(\"Layer 6\")\n",
    "axs[1,2].hist(overlaps_WM[\"pre_syn_count\"])\n",
    "axs[1,2].set_title(\"Layer WM\")\n",
    "plt.tight_layout()"
   ]
  },
  {
   "cell_type": "code",
   "execution_count": 210,
   "metadata": {},
   "outputs": [
    {
     "data": {
      "image/png": "[encoded data removed]",
      "text/plain": [
       "<Figure size 640x480 with 6 Axes>"
      ]
     },
     "metadata": {},
     "output_type": "display_data"
    }
   ],
   "source": [
    "fig, axs = plt.subplots(2,3)\n",
    "fig.suptitle(\"Anomalous In Degree\")\n",
    "axs[0,0].hist(overlaps_L1[\"post_syn_count\"])\n",
    "axs[0, 0].set_title(\"Layer 1\")\n",
    "axs[0,1].hist(overlaps_L23[\"post_syn_count\"])\n",
    "axs[0,1].set_title(\"Layer 23\")\n",
    "axs[0,2].hist(overlaps_L4[\"post_syn_count\"])\n",
    "axs[0,2].set_title(\"Layer 4\")\n",
    "axs[1,0].hist(overlaps_L5[\"post_syn_count\"])\n",
    "axs[1,0].set_title(\"Layer 5\")\n",
    "axs[1,1].hist(overlaps_L6[\"post_syn_count\"])\n",
    "axs[1,1].set_title(\"Layer 6\")\n",
    "axs[1,2].hist(overlaps_WM[\"post_syn_count\"])\n",
    "axs[1,2].set_title(\"Layer WM\")\n",
    "plt.tight_layout()"
   ]
  },
  {
   "cell_type": "code",
   "execution_count": 211,
   "metadata": {},
   "outputs": [
    {
     "data": {
      "image/png": "[encoded data removed]",
      "text/plain": [
       "<Figure size 640x480 with 6 Axes>"
      ]
     },
     "metadata": {},
     "output_type": "display_data"
    }
   ],
   "source": [
    "fig, axs = plt.subplots(2,3)\n",
    "fig.suptitle(\"Anomalous Cell Type Classification\")\n",
    "axs[0,0].hist(overlaps_L1[\"cell_polarity\"])\n",
    "axs[0, 0].set_title(\"Layer 1\")\n",
    "axs[0,1].hist(overlaps_L23[\"cell_polarity\"])\n",
    "axs[0,1].set_title(\"Layer 23\")\n",
    "axs[0,2].hist(overlaps_L4[\"cell_polarity\"])\n",
    "axs[0,2].set_title(\"Layer 4\")\n",
    "axs[1,0].hist(overlaps_L5[\"cell_polarity\"])\n",
    "axs[1,0].set_title(\"Layer 5\")\n",
    "axs[1,1].hist(overlaps_L6[\"cell_polarity\"])\n",
    "axs[1,1].set_title(\"Layer 6\")\n",
    "axs[1,2].hist(overlaps_WM[\"cell_polarity\"])\n",
    "axs[1,2].set_title(\"Layer WM\")\n",
    "plt.tight_layout()"
   ]
  },
  {
   "cell_type": "markdown",
   "metadata": {},
   "source": [
    "### Non-Anomalous Data"
   ]
  },
  {
   "cell_type": "code",
   "execution_count": 203,
   "metadata": {},
   "outputs": [],
   "source": [
    "def filter_by_layer(nodes, edges, layer):\n",
    "    '''\n",
    "    Extract subgraphs from June connectome data by layer for analysis\n",
    "    Parameters: \n",
    "        nodes (Pandas dataframe) final june node dataframe\n",
    "        edges (Pandas dataframe) final june edge dataframe \n",
    "        layer (string) layer of interest to extract\n",
    "    Return: \n",
    "        node table subgraph (Pandas dataframe) by layer\n",
    "        edge table subgraph (Pandas dataframe) by layer\n",
    "        Subgraph G (NetworkX graph object)\n",
    "    '''\n",
    "\n",
    "    # Filter entire node table to only those in layer \n",
    "    rslt_synapse_df = nodes[nodes['layer'] == layer] \n",
    "    \n",
    "    # Get list of unique neurons\n",
    "    list_of_neurons = set(rslt_synapse_df['pt_root_id'].to_list())\n",
    "\n",
    "    # Filter the synapse tables  extract all unique connections between nodes\n",
    "    filtered = edges[edges['Source'].isin(list_of_neurons)]\n",
    "    filtered2 = filtered[filtered['Target'].isin(list_of_neurons)]\n",
    "\n",
    "    # create graph object\n",
    "    G = nx.from_pandas_edgelist(filtered2, source=\"Source\", target=\"Target\", create_using=nx.DiGraph, edge_attr=\"Euclidean_Distance\")\n",
    "    list_of_current_nodes = set(list(G.nodes))\n",
    "    missing_nodes = list(list_of_current_nodes ^ list_of_neurons)\n",
    "    G.add_nodes_from(missing_nodes)\n",
    "    \n",
    "    return rslt_synapse_df, filtered2, G"
   ]
  },
  {
   "cell_type": "code",
   "execution_count": 204,
   "metadata": {},
   "outputs": [],
   "source": [
    "node_df_L1, edge_df_L1, G_L1 = filter_by_layer(nodes, edges, 'L1')\n",
    "node_df_L23, edge_df_L23, G_L23 = filter_by_layer(nodes, edges, 'L23')\n",
    "node_df_L4, edge_df_L4, G_L4 = filter_by_layer(nodes, edges, 'L4')\n",
    "node_df_L5, edge_df_L5, G_L5 = filter_by_layer(nodes, edges, 'L5')\n",
    "node_df_L6, edge_df_L6, G_L6 = filter_by_layer(nodes, edges, 'L6')\n",
    "node_df_WM, edge_df_WM, G_WM = filter_by_layer(nodes, edges, 'WM')"
   ]
  },
  {
   "cell_type": "code",
   "execution_count": 205,
   "metadata": {},
   "outputs": [],
   "source": [
    "non_AD_L1 = node_df_L1[node_df_L1.pt_root_id.isin(overlaps_L1[\"pt_root_id\"].to_list())==False]\n",
    "non_AD_L23 = node_df_L23[node_df_L23.pt_root_id.isin(overlaps_L23[\"pt_root_id\"].to_list())==False]\n",
    "non_AD_L4 = node_df_L4[node_df_L4.pt_root_id.isin(overlaps_L4[\"pt_root_id\"].to_list())==False]\n",
    "non_AD_L5 = node_df_L5[node_df_L5.pt_root_id.isin(overlaps_L5[\"pt_root_id\"].to_list())==False]\n",
    "non_AD_L6 = node_df_L6[node_df_L6.pt_root_id.isin(overlaps_L6[\"pt_root_id\"].to_list())==False]\n",
    "non_AD_WM = node_df_WM[node_df_WM.pt_root_id.isin(overlaps_WM[\"pt_root_id\"].to_list())==False]"
   ]
  },
  {
   "cell_type": "code",
   "execution_count": 214,
   "metadata": {},
   "outputs": [
    {
     "data": {
      "image/png": "[encoded data removed]",
      "text/plain": [
       "<Figure size 640x480 with 6 Axes>"
      ]
     },
     "metadata": {},
     "output_type": "display_data"
    }
   ],
   "source": [
    "fig, axs = plt.subplots(2,3)\n",
    "fig.suptitle(\"Non-Anomalous Out Degree\")\n",
    "axs[0,0].hist(non_AD_L1[\"pre_syn_count\"], range=[0,700])\n",
    "axs[0, 0].set_title(\"Layer 1\")\n",
    "axs[0,1].hist(non_AD_L23[\"pre_syn_count\"], range=[0,700])\n",
    "axs[0,1].set_title(\"Layer 23\")\n",
    "axs[0,2].hist(non_AD_L4[\"pre_syn_count\"], range=[0,700])\n",
    "axs[0,2].set_title(\"Layer 4\")\n",
    "axs[1,0].hist(non_AD_L5[\"pre_syn_count\"], range=[0,700])\n",
    "axs[1,0].set_title(\"Layer 5\")\n",
    "axs[1,1].hist(non_AD_L6[\"pre_syn_count\"], range=[0,700])\n",
    "axs[1,1].set_title(\"Layer 6\")\n",
    "axs[1,2].hist(non_AD_WM[\"pre_syn_count\"], range=[0,700])\n",
    "axs[1,2].set_title(\"Layer WM\")\n",
    "plt.tight_layout()"
   ]
  },
  {
   "cell_type": "code",
   "execution_count": 225,
   "metadata": {},
   "outputs": [
    {
     "data": {
      "image/png": "[encoded data removed]",
      "text/plain": [
       "<Figure size 640x480 with 6 Axes>"
      ]
     },
     "metadata": {},
     "output_type": "display_data"
    }
   ],
   "source": [
    "fig, axs = plt.subplots(2,3)\n",
    "fig.suptitle(\"Non-Anomalous In Degree\")\n",
    "axs[0,0].hist(non_AD_L1[\"post_syn_count\"], range=[0,9000])\n",
    "axs[0, 0].set_title(\"Layer 1\")\n",
    "axs[0,1].hist(non_AD_L23[\"post_syn_count\"], range=[0,9000])\n",
    "axs[0,1].set_title(\"Layer 23\")\n",
    "axs[0,2].hist(non_AD_L4[\"post_syn_count\"], range=[0,9000])\n",
    "axs[0,2].set_title(\"Layer 4\")\n",
    "axs[1,0].hist(non_AD_L5[\"post_syn_count\"], range=[0,9000])\n",
    "axs[1,0].set_title(\"Layer 5\")\n",
    "axs[1,1].hist(non_AD_L6[\"post_syn_count\"], range=[0,5000])\n",
    "axs[1,1].set_title(\"Layer 6\")\n",
    "axs[1,2].hist(non_AD_WM[\"post_syn_count\"], range=[0,5000])\n",
    "axs[1,2].set_title(\"Layer WM\")\n",
    "plt.tight_layout()"
   ]
  },
  {
   "cell_type": "code",
   "execution_count": 226,
   "metadata": {},
   "outputs": [
    {
     "data": {
      "image/png": "[encoded data removed]",
      "text/plain": [
       "<Figure size 640x480 with 6 Axes>"
      ]
     },
     "metadata": {},
     "output_type": "display_data"
    }
   ],
   "source": [
    "fig, axs = plt.subplots(2,3)\n",
    "fig.suptitle(\"Non-Anomalous Cell Type Classification\")\n",
    "axs[0,0].hist(non_AD_L1[\"cell_polarity\"])\n",
    "axs[0, 0].set_title(\"Layer 1\")\n",
    "axs[0,1].hist(non_AD_L23[\"cell_polarity\"])\n",
    "axs[0,1].set_title(\"Layer 23\")\n",
    "axs[0,2].hist(non_AD_L4[\"cell_polarity\"])\n",
    "axs[0,2].set_title(\"Layer 4\")\n",
    "axs[1,0].hist(non_AD_L5[\"cell_polarity\"])\n",
    "axs[1,0].set_title(\"Layer 5\")\n",
    "axs[1,1].hist(non_AD_L6[\"cell_polarity\"])\n",
    "axs[1,1].set_title(\"Layer 6\")\n",
    "axs[1,2].hist(non_AD_WM[\"cell_polarity\"])\n",
    "axs[1,2].set_title(\"Layer WM\")\n",
    "plt.tight_layout()"
   ]
  }
 ],
 "metadata": {
  "kernelspec": {
   "display_name": "Python 3.9.7 ('crimson_cohort_gac')",
   "language": "python",
   "name": "python3"
  },
  "language_info": {
   "codemirror_mode": {
    "name": "ipython",
    "version": 3
   },
   "file_extension": ".py",
   "mimetype": "text/x-python",
   "name": "python",
   "nbconvert_exporter": "python",
   "pygments_lexer": "ipython3",
   "version": "3.9.7"
  },
  "orig_nbformat": 4,
  "vscode": {
   "interpreter": {
    "hash": "7c3c6971a22b6250d648cfba4a87728c8e74d6bfcfbd8d5858e8bfd52facd9b8"
   }
  }
 },
 "nbformat": 4,
 "nbformat_minor": 2
}
