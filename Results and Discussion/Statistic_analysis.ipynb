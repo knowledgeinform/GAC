{
 "cells": [
  {
   "cell_type": "markdown",
   "metadata": {},
   "source": [
    "We have compiled a list of seg_ids for each layer that are anomalous. \n",
    "From this, we can look more closely at the attributes to see if there exists a pattern/relationship between the nodes being anomalous and excitatory. \n",
    "Is there a statistically significant difference between the anomalous nodes and the normal nodes with regards to the nodes being excitatory. \n",
    "\n",
    "Let e1 represent the proportion of excitatory neurons in the anomalous group and let e2 represent the proportion of excitatory neurons in the normal group. For there to exist a statistically significant difference in the proportion of e neurons in the anomalous group, |e1 - e2| >> 0.\n",
    "\n",
    "Null Hypothesis: |e1 - e2| == 0. \n",
    "\n",
    "Alternate Hypothesis: |e1 - e2 | >> 0\n",
    "\n",
    "Process:\n",
    "1. We consider 6 samples: one from each cortical layer subgraph\n",
    "2. Apply a T-distribution with 5 degrees of freedom given the lower sample size for this problem\n",
    "3. Compute the p-value\n"
   ]
  },
  {
   "cell_type": "code",
   "execution_count": 1,
   "metadata": {},
   "outputs": [],
   "source": [
    "# import relevant libraries\n",
    "import scipy\n",
    "import pandas as pd\n",
    "import numpy as np"
   ]
  },
  {
   "cell_type": "code",
   "execution_count": 2,
   "metadata": {},
   "outputs": [],
   "source": [
    "# First step is to collect all the data: we read in the node table and a list of anomalies from each layer\n",
    "# for Hypothesis Testing, we will treat each layer as sample data point\n",
    "\n",
    "nodes = pd.read_csv('FINAL_node2vec_results/final_connectome_node_table.csv')\n",
    "L1_Anomalies = pd.read_csv('overlaps_L1.csv')['pt_root_id'].to_numpy()\n",
    "L23_Anomalies = pd.read_csv('overlaps_L23.csv')['pt_root_id'].to_numpy()\n",
    "L4_Anomalies = pd.read_csv('overlaps_L4.csv')['pt_root_id'].to_numpy()\n",
    "L5_Anomalies = pd.read_csv('overlaps_L5.csv')['pt_root_id'].to_numpy()\n",
    "L6_Anomalies = pd.read_csv('overlaps_L6.csv')['pt_root_id'].to_numpy()\n",
    "WM_Anomalies = pd.read_csv('overlaps_WM.csv')['pt_root_id'].to_numpy()"
   ]
  },
  {
   "cell_type": "code",
   "execution_count": 3,
   "metadata": {},
   "outputs": [],
   "source": [
    "L1_filtered = nodes[nodes['pt_root_id'].isin(L1_Anomalies)]\n",
    "L23_filtered = nodes[nodes['pt_root_id'].isin(L23_Anomalies)]\n",
    "L4_filtered = nodes[nodes['pt_root_id'].isin(L4_Anomalies)]\n",
    "L5_filtered = nodes[nodes['pt_root_id'].isin(L5_Anomalies)]\n",
    "L6_filtered = nodes[nodes['pt_root_id'].isin(L6_Anomalies)]\n",
    "WM_filtered = nodes[nodes['pt_root_id'].isin(WM_Anomalies)]"
   ]
  },
  {
   "cell_type": "code",
   "execution_count": 4,
   "metadata": {},
   "outputs": [],
   "source": [
    "# compue the absolute value difference between proportion of excitatory neurons in the anomalous df and proportion of excitatory neurons in the normal df\n",
    "\n",
    "def sample_generation (anomalies_df, layer):\n",
    "    '''\n",
    "    Generate samples for Hypothesis Testing from final data\n",
    "    Parameters:\n",
    "        anomalies_df: dataframe of all the anomalies extract in a subgraph layer\n",
    "        layer: cortical layer [L1, L23, L4, L5, L6, WM]\n",
    "    Returns:\n",
    "        sample_val: (float) proportion of excitatory nodes in the anomalous data / proportion of e nodes in the normal data\n",
    "\n",
    "    '''\n",
    "    num_of_e = len(anomalies_df.loc[anomalies_df['cell_polarity'] == 'excitatory'])\n",
    "    total_count = len(anomalies_df)\n",
    "    e_in_a = num_of_e / total_count\n",
    "\n",
    "    filtered_layer = nodes.loc[nodes['layer'] == layer]\n",
    "    total_count_n = len(filtered_layer)\n",
    "    e_in_n = len(filtered_layer.loc[filtered_layer['cell_polarity'] == 'excitatory'])/total_count_n\n",
    "\n",
    "    sample_val = abs(e_in_a - e_in_n)\n",
    "\n",
    "    return sample_val"
   ]
  },
  {
   "cell_type": "code",
   "execution_count": 5,
   "metadata": {},
   "outputs": [],
   "source": [
    "x1 = sample_generation(L1_filtered, 'L1')\n",
    "x2 = sample_generation(L23_filtered, 'L23')\n",
    "x3 = sample_generation(L4_filtered, 'L4')\n",
    "x4 = sample_generation(L5_filtered, 'L5')\n",
    "x5 = sample_generation(L6_filtered, 'L6')\n",
    "x6 = sample_generation(WM_filtered, 'WM')"
   ]
  },
  {
   "cell_type": "code",
   "execution_count": 6,
   "metadata": {},
   "outputs": [
    {
     "name": "stdout",
     "output_type": "stream",
     "text": [
      "0.07791197369729402 0.11650176952739909\n"
     ]
    }
   ],
   "source": [
    "list_of_samples = np.array([x1, x2, x3, x4, x5, x6])\n",
    "sample_mean = np.mean(list_of_samples)\n",
    "sample_std = np.std(list_of_samples)\n",
    "print(sample_mean, sample_std)"
   ]
  },
  {
   "cell_type": "markdown",
   "metadata": {},
   "source": [
    "We have compiled a sample mean, sample std, and a null hypothesis. We can now apply the T-distribution for this problem given a low sample size"
   ]
  },
  {
   "cell_type": "code",
   "execution_count": 7,
   "metadata": {},
   "outputs": [
    {
     "data": {
      "text/plain": [
       "<matplotlib.lines.Line2D at 0x21b2c3e5cf0>"
      ]
     },
     "execution_count": 7,
     "metadata": {},
     "output_type": "execute_result"
    },
    {
     "data": {
      "image/png": "[encoded data removed]",
      "text/plain": [
       "<Figure size 432x288 with 1 Axes>"
      ]
     },
     "metadata": {
      "needs_background": "light"
     },
     "output_type": "display_data"
    }
   ],
   "source": [
    "from scipy.stats import t\n",
    "import matplotlib.pyplot as plt\n",
    "fig, ax = plt.subplots(1, 1)\n",
    "df = 5\n",
    "mean, var, skew, kurt = t.stats(df, moments='mvsk')\n",
    "x = np.linspace(t.ppf(0.01, df),\n",
    "                t.ppf(0.99, df), 100)\n",
    "ax.plot(x, t.pdf(x, df),\n",
    "       'r-', lw=5, alpha=0.6, label='t pdf')\n",
    "plt.title('t-Distribution with 5 degrees of freedom')\n",
    "\n",
    "t_Value = sample_mean / (sample_std / np.sqrt(6))\n",
    "plt.axvline(x = t_Value, color = 'k', label = 'axvline - full height')\n",
    "plt.axvline(x = - t_Value, color = 'k', label = 'axvline - full height')"
   ]
  },
  {
   "cell_type": "code",
   "execution_count": 8,
   "metadata": {},
   "outputs": [],
   "source": [
    "# COMPUTE p- value with confidence level of 0.05\n",
    "t_Value = sample_mean / (sample_std / np.sqrt(6))\n",
    "p_val = scipy.stats.t.sf(t_Value, df=5) * 2"
   ]
  },
  {
   "cell_type": "code",
   "execution_count": 9,
   "metadata": {},
   "outputs": [
    {
     "data": {
      "text/plain": [
       "0.16232125592297336"
      ]
     },
     "execution_count": 9,
     "metadata": {},
     "output_type": "execute_result"
    }
   ],
   "source": [
    "p_val"
   ]
  },
  {
   "cell_type": "markdown",
   "metadata": {},
   "source": [
    "Given that the p value is greater than the chosen confidence level of 95% (alpha = 0.05), we fail to adequately reject the null hypothesis and cannot determine that there exists a significant difference between the anomalous and normal group of nodes."
   ]
  }
 ],
 "metadata": {
  "kernelspec": {
   "display_name": "Python 3.10.1 ('myenv': venv)",
   "language": "python",
   "name": "python3"
  },
  "language_info": {
   "codemirror_mode": {
    "name": "ipython",
    "version": 3
   },
   "file_extension": ".py",
   "mimetype": "text/x-python",
   "name": "python",
   "nbconvert_exporter": "python",
   "pygments_lexer": "ipython3",
   "version": "3.10.1"
  },
  "orig_nbformat": 4,
  "vscode": {
   "interpreter": {
    "hash": "016cc57f8092facf9f6a791f44c1c387ac11a4eef72769207b628a3df7f7fc93"
   }
  }
 },
 "nbformat": 4,
 "nbformat_minor": 2
}
